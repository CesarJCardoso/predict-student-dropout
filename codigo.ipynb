{
 "cells": [
  {
   "cell_type": "code",
   "execution_count": 4,
   "metadata": {},
   "outputs": [
    {
     "name": "stdout",
     "output_type": "stream",
     "text": [
      "Accuracy: 0.91, Precision: 0.88, Recall: 0.91, F1: 0.89, AUC-ROC: 0.97\n"
     ]
    },
    {
     "name": "stderr",
     "output_type": "stream",
     "text": [
      "c:\\Users\\CesarCardoso\\miniconda3\\Lib\\site-packages\\sklearn\\metrics\\_classification.py:1471: UndefinedMetricWarning: Precision is ill-defined and being set to 0.0 in labels with no predicted samples. Use `zero_division` parameter to control this behavior.\n",
      "  _warn_prf(average, modifier, msg_start, len(result))\n"
     ]
    },
    {
     "data": {
      "text/plain": [
       "['standard_scaler.joblib']"
      ]
     },
     "execution_count": 4,
     "metadata": {},
     "output_type": "execute_result"
    }
   ],
   "source": [
    "import pandas as pd\n",
    "from sklearn.preprocessing import LabelEncoder, StandardScaler\n",
    "from sklearn.model_selection import train_test_split\n",
    "from sklearn.ensemble import RandomForestClassifier\n",
    "from sklearn.metrics import accuracy_score, precision_score, recall_score, f1_score, roc_auc_score\n",
    "from joblib import dump\n",
    "\n",
    "# Carregar os dados\n",
    "file_path = 'ds.csv'\n",
    "data = pd.read_csv(file_path)\n",
    "\n",
    "# Pré-processamento dos dados\n",
    "# Tratar valores ausentes\n",
    "data['Classificação habilitação anterior'].fillna(data['Classificação habilitação anterior'].mean(), inplace=True)\n",
    "data['Km Distância ISEC Lisboa - Concelho Morada Indicada pelo estudante'].fillna(data['Km Distância ISEC Lisboa - Concelho Morada Indicada pelo estudante'].median(), inplace=True)\n",
    "\n",
    "# Converter dados categóricos em numéricos\n",
    "categorical_columns = data.select_dtypes(include=['object']).columns\n",
    "label_encoders = {}\n",
    "for column in categorical_columns:\n",
    "    le = LabelEncoder()\n",
    "    data[column] = data[column].fillna('Desconhecido')\n",
    "    data[column] = le.fit_transform(data[column])\n",
    "    label_encoders[column] = le\n",
    "\n",
    "# Normalizar ou padronizar os dados\n",
    "scaler = StandardScaler()\n",
    "columns_to_scale = data.columns[1:-1]\n",
    "data[columns_to_scale] = scaler.fit_transform(data[columns_to_scale])\n",
    "\n",
    "# Remover a coluna de identificação do aluno\n",
    "data.drop(columns=['Nº'], inplace=True)\n",
    "\n",
    "# Seleção de características e divisão dos dados em conjuntos de treinamento e teste\n",
    "X = data.drop(columns=['Abandono?'])\n",
    "y = data['Abandono?']\n",
    "X_train, X_test, y_train, y_test = train_test_split(X, y, test_size=0.2, random_state=42)\n",
    "\n",
    "# Treinamento do modelo RandomForest\n",
    "rf_model = RandomForestClassifier(n_estimators=100, random_state=42)\n",
    "rf_model.fit(X_train, y_train)\n",
    "\n",
    "# Avaliação do modelo\n",
    "y_pred = rf_model.predict(X_test)\n",
    "accuracy = accuracy_score(y_test, y_pred)\n",
    "precision = precision_score(y_test, y_pred, average='weighted')\n",
    "recall = recall_score(y_test, y_pred, average='weighted')\n",
    "f1 = f1_score(y_test, y_pred, average='weighted')\n",
    "roc_auc = roc_auc_score(y_test, rf_model.predict_proba(X_test), multi_class='ovr')\n",
    "\n",
    "# Exibir métricas de avaliação\n",
    "print(f\"Accuracy: {accuracy:.2f}, Precision: {precision:.2f}, Recall: {recall:.2f}, F1: {f1:.2f}, AUC-ROC: {roc_auc:.2f}\")\n",
    "\n",
    "# Salvar o modelo, LabelEncoders e StandardScaler\n",
    "dump(rf_model, 'modelo_rf.joblib')\n",
    "dump(label_encoders, 'label_encoders.joblib')\n",
    "dump(scaler, 'standard_scaler.joblib')\n"
   ]
  }
 ],
 "metadata": {
  "kernelspec": {
   "display_name": "base",
   "language": "python",
   "name": "python3"
  },
  "language_info": {
   "codemirror_mode": {
    "name": "ipython",
    "version": 3
   },
   "file_extension": ".py",
   "mimetype": "text/x-python",
   "name": "python",
   "nbconvert_exporter": "python",
   "pygments_lexer": "ipython3",
   "version": "3.11.5"
  }
 },
 "nbformat": 4,
 "nbformat_minor": 2
}
